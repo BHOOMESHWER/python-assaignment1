{
 "cells": [
  {
   "cell_type": "markdown",
   "id": "8dceccd0",
   "metadata": {},
   "source": [
    "1. In the below elements which of them are values or an expression? eg:- values can be integer or string and expressions will be mathematical operators.\n",
    "* 'hello'-87.8, - ,/ ,+\t ,6  "
   ]
  },
  {
   "cell_type": "code",
   "execution_count": 1,
   "id": "fe8da1c7",
   "metadata": {},
   "outputs": [
    {
     "data": {
      "text/plain": [
       "str"
      ]
     },
     "execution_count": 1,
     "metadata": {},
     "output_type": "execute_result"
    }
   ],
   "source": [
    "a=\"hello\"\n",
    "type(a)"
   ]
  },
  {
   "cell_type": "code",
   "execution_count": 2,
   "id": "ac6fead7",
   "metadata": {},
   "outputs": [
    {
     "data": {
      "text/plain": [
       "float"
      ]
     },
     "execution_count": 2,
     "metadata": {},
     "output_type": "execute_result"
    }
   ],
   "source": [
    "a=-87.8\n",
    "type(a)"
   ]
  },
  {
   "cell_type": "code",
   "execution_count": 3,
   "id": "51becd93",
   "metadata": {},
   "outputs": [
    {
     "data": {
      "text/plain": [
       "8"
      ]
     },
     "execution_count": 3,
     "metadata": {},
     "output_type": "execute_result"
    }
   ],
   "source": [
    "12-4"
   ]
  },
  {
   "cell_type": "code",
   "execution_count": 4,
   "id": "98a0e275",
   "metadata": {},
   "outputs": [
    {
     "data": {
      "text/plain": [
       "3.0"
      ]
     },
     "execution_count": 4,
     "metadata": {},
     "output_type": "execute_result"
    }
   ],
   "source": [
    "12/4"
   ]
  },
  {
   "cell_type": "code",
   "execution_count": 5,
   "id": "960c7710",
   "metadata": {},
   "outputs": [
    {
     "data": {
      "text/plain": [
       "7"
      ]
     },
     "execution_count": 5,
     "metadata": {},
     "output_type": "execute_result"
    }
   ],
   "source": [
    " 3+4"
   ]
  },
  {
   "cell_type": "code",
   "execution_count": 6,
   "id": "e5f98103",
   "metadata": {},
   "outputs": [
    {
     "data": {
      "text/plain": [
       "int"
      ]
     },
     "execution_count": 6,
     "metadata": {},
     "output_type": "execute_result"
    }
   ],
   "source": [
    "a=6\n",
    "type(a)"
   ]
  },
  {
   "cell_type": "markdown",
   "id": "05b7aaf4",
   "metadata": {},
   "source": [
    "2. What is the difference between string and variable?"
   ]
  },
  {
   "cell_type": "raw",
   "id": "a752d3e9",
   "metadata": {},
   "source": [
    "ans: A variable is a store of information,and a string is a type of information store in a variable.\n",
    "     A string is usually  words, enclosed with \"\" or ''\n",
    "    eg: s=\"welcome to ineuron\"\n",
    "    here s is the variable and we declare the string.\n",
    "   "
   ]
  },
  {
   "cell_type": "markdown",
   "id": "132a0242",
   "metadata": {},
   "source": [
    " 3. Describe three different data types?\n"
   ]
  },
  {
   "cell_type": "raw",
   "id": "b64c4613",
   "metadata": {},
   "source": [
    "integer\n",
    "whole numbers-eg:1,2,254,2448\n",
    "list\n",
    "numbers,charecters,floting values-eg:[14,\"hello\",15.6]\n",
    "boolean\n",
    "the stament either true or false"
   ]
  },
  {
   "cell_type": "markdown",
   "id": "d7dce1ba",
   "metadata": {},
   "source": [
    "4. What is an expression made up of? What do all expressions do?"
   ]
  },
  {
   "cell_type": "raw",
   "id": "8b41e4e5",
   "metadata": {},
   "source": [
    "Expression is made up of values, containers, and mathematical operators\n",
    "eg:\n",
    "    12-4 this expression as used to substruct the values"
   ]
  },
  {
   "cell_type": "markdown",
   "id": "9aa7eaac",
   "metadata": {},
   "source": [
    "5. This assignment statements, like spam = 10. What is the difference between an expression and a statement?"
   ]
  },
  {
   "cell_type": "raw",
   "id": "aa1411cd",
   "metadata": {},
   "source": [
    "ans:\n",
    "Expression is made up of values, containers, and mathematical operators and\n",
    "The statement is just like a command that a python interpreter executes like print."
   ]
  },
  {
   "cell_type": "markdown",
   "id": "404dcb9f",
   "metadata": {},
   "source": [
    "6. After running the following code, what does the variable bacon contain?\n",
    "bacon = 22\n",
    "bacon + 1\n"
   ]
  },
  {
   "cell_type": "code",
   "execution_count": 8,
   "id": "8b3af64e",
   "metadata": {},
   "outputs": [
    {
     "data": {
      "text/plain": [
       "23"
      ]
     },
     "execution_count": 8,
     "metadata": {},
     "output_type": "execute_result"
    }
   ],
   "source": [
    "bacon=22\n",
    "bacon+1"
   ]
  },
  {
   "cell_type": "markdown",
   "id": "8be3de67",
   "metadata": {},
   "source": [
    "7. What should the values of the following two terms be?\n",
    "'spam' + 'spamspam'\n",
    "'spam' * 3"
   ]
  },
  {
   "cell_type": "code",
   "execution_count": 9,
   "id": "43556732",
   "metadata": {},
   "outputs": [
    {
     "data": {
      "text/plain": [
       "'spamspamspam'"
      ]
     },
     "execution_count": 9,
     "metadata": {},
     "output_type": "execute_result"
    }
   ],
   "source": [
    " 'spam' + 'spamspam'"
   ]
  },
  {
   "cell_type": "code",
   "execution_count": 10,
   "id": "fe99d04c",
   "metadata": {},
   "outputs": [
    {
     "data": {
      "text/plain": [
       "'spamspamspam'"
      ]
     },
     "execution_count": 10,
     "metadata": {},
     "output_type": "execute_result"
    }
   ],
   "source": [
    " 'spam' * 3"
   ]
  },
  {
   "cell_type": "markdown",
   "id": "13d97bdc",
   "metadata": {},
   "source": [
    "8. Why is eggs a valid variable name while 100 is invalid?"
   ]
  },
  {
   "cell_type": "raw",
   "id": "339920e9",
   "metadata": {},
   "source": [
    "ans:\n",
    "yes,why because we can't  start give a variable with an integer name, we start with a string or alphabets like e100 and egg100 is valid "
   ]
  },
  {
   "cell_type": "markdown",
   "id": "aff8c5fe",
   "metadata": {},
   "source": [
    "9. What three functions can be used to get the integer, floating-point number, or string version of a value?"
   ]
  },
  {
   "cell_type": "raw",
   "id": "ea0edbf8",
   "metadata": {},
   "source": [
    "str(), int(), float()"
   ]
  },
  {
   "cell_type": "markdown",
   "id": "e6674b46",
   "metadata": {},
   "source": [
    "10. Why does this expression cause an error? How can you fix it?\n",
    "'I have eaten ' + 99 + ' burritos.'"
   ]
  },
  {
   "cell_type": "raw",
   "id": "ce3f9438",
   "metadata": {},
   "source": [
    "a string can't connect with integer thats why its an error"
   ]
  },
  {
   "cell_type": "code",
   "execution_count": null,
   "id": "26e95337",
   "metadata": {},
   "outputs": [],
   "source": []
  }
 ],
 "metadata": {
  "kernelspec": {
   "display_name": "Python 3 (ipykernel)",
   "language": "python",
   "name": "python3"
  },
  "language_info": {
   "codemirror_mode": {
    "name": "ipython",
    "version": 3
   },
   "file_extension": ".py",
   "mimetype": "text/x-python",
   "name": "python",
   "nbconvert_exporter": "python",
   "pygments_lexer": "ipython3",
   "version": "3.9.7"
  }
 },
 "nbformat": 4,
 "nbformat_minor": 5
}
